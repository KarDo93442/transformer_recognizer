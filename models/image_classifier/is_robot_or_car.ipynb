{
 "cells": [
  {
   "cell_type": "code",
   "execution_count": null,
   "metadata": {},
   "outputs": [],
   "source": [
    "term_1 = \"transformers bayverse bumblebee\" #@param {type:\"string\"}\n",
    "term_2 = \"transformers bayverse optimus prime\" #@param {type:\"string\"}\n",
    "term_3 = \"transformers bayverse megatron\" #@param {type:\"string\"}\n",
    "term_4 = \"sports car\" #@param {type:\"string\"}\n",
    "term_5 = \"peterbilt 379\" #@param {type:\"string\"}\n",
    "\n",
    "search_terms = sorted([\n",
    "    term_1,\n",
    "    term_2,\n",
    "    term_3,\n",
    "    term_4,\n",
    "    term_5\n",
    "])\n",
    "\n",
    "search_terms = [x for x in search_terms if x.strip() != '']"
   ]
  }
 ],
 "metadata": {
  "language_info": {
   "name": "python"
  },
  "orig_nbformat": 4
 },
 "nbformat": 4,
 "nbformat_minor": 2
}
